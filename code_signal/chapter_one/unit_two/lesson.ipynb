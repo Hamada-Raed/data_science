{
 "cells": [
  {
   "cell_type": "markdown",
   "id": "c3223fc3",
   "metadata": {},
   "source": [
    "## Preparing for the Dive into Pandas\n",
    "Are you ready to delve deeper into the core functionalities of Pandas, one of the most popular Python libraries in data science? Today, we will focus on learning about Pandas DataFrame and data manipulation — the backbone of many data operation tasks. We're going to handle the Titanic dataset — a fascinating example containing real-world data — that will keep you engaged as we navigate through the lesson.\n",
    "\n",
    "Pandas DataFrames bring versatility and power to the table when it comes to data manipulation. Think of it as Excel, but on steroids, capable of handling large and complex datasets. The processing abilities of DataFrames are crucial for cleaning, transforming, and analyzing datasets in earnest.\n",
    "\n",
    "Say you've got a dataset, like the Titanic, but some data is missing. Or perhaps there are some anomalies you’d want to filter out. Or you need specific segments of data to examine a particular hypothesis. How would you do it? By mastering Pandas DataFrames, you'd be well-equipped to tackle these tasks!"
   ]
  },
  {
   "cell_type": "markdown",
   "id": "b1510d25",
   "metadata": {},
   "source": [
    "## Initiation to Pandas DataFrame\n",
    "Pandas DataFrame is a two-dimensional labeled data structure capable of holding data of various types—integers, floats, strings, Python objects, and more. It's generally the most commonly used Pandas object.\n",
    "\n",
    "Let's start simply by creating a DataFrame from a dictionary:"
   ]
  },
  {
   "cell_type": "code",
   "execution_count": null,
   "id": "07c3816f",
   "metadata": {},
   "outputs": [],
   "source": [
    "import pandas as pd\n",
    "\n",
    "data_dict = {\"Name\": [\"John\", \"Anna\", \"Peter\"],\n",
    "             \"Age\": [28, 24, 33],\n",
    "             \"City\": [\"New York\", \"Los Angeles\", \"Berlin\"]}\n",
    "\n",
    "df = pd.DataFrame(data_dict)\n",
    "\n",
    "print(df)\n",
    "\n",
    "\"\"\"\n",
    "    Name  Age         City\n",
    "0   John   28     New York\n",
    "1   Anna   24  Los Angeles\n",
    "2  Peter   33       Berlin\n",
    "\"\"\""
   ]
  },
  {
   "cell_type": "markdown",
   "id": "75774ab3",
   "metadata": {},
   "source": [
    "Each key-value pair in the dictionary corresponds to a column in the resulting DataFrame. The key defines the column label, and the corresponding value is a list of column values. The DataFrame constructor takes a dictionary as input and turns it into a two-dimensional table where keys become column names, and values in each key (which should be a list) will be the values for the respective column. Here \"John\", \"Anna\", and \"Peter\" have ages 28, 24, and 33, respectively, and they live in \"New York\", \"Los Angeles\", and \"Berlin\"."
   ]
  },
  {
   "cell_type": "markdown",
   "id": "66d65afe",
   "metadata": {},
   "source": [
    "## DataFrame Characteristics\n",
    "To inspect the structure and properties of a DataFrame, we have a range of functions at our disposal. Here are some commonly used ones:\n",
    "\n",
    "- df.head(n): Returns the first n rows of the DataFrame df.\n",
    "- df.tail(n): Returns the last n rows of the DataFrame df.\n",
    "- df.shape: Returns a tuple representing the dimensions (number_of_rows, number_of_columns) of the DataFrame df.\n",
    "- df.columns: Returns an index containing column labels of the DataFrame df.\n",
    "- df.dtypes: Returns a series with the data type of each column.\n",
    "\n",
    "\n",
    "Let's see these functions in action below:"
   ]
  },
  {
   "cell_type": "code",
   "execution_count": null,
   "id": "21584ad8",
   "metadata": {},
   "outputs": [],
   "source": [
    "print(df.head(2))  # Print first two rows\n",
    "print(df.tail(2))  # Print last two rows\n",
    "print(df.shape)    # Print dimensions of the df (rows, columns): (3, 3)\n",
    "print(df.columns)  # Print column labels: Index(['Name', 'Age', 'City'], dtype='object')\n",
    "print(df.dtypes)   # Print data types of each column:\n",
    "# Name    object\n",
    "# Age      int64\n",
    "# City    object\n",
    "# dtype: object"
   ]
  },
  {
   "cell_type": "markdown",
   "id": "19f8ef7c",
   "metadata": {},
   "source": [
    "These commands will help us understand the basic shape and type of the DataFrame. df.head(2) prints the first 2 rows of the DataFrame, which are {[John, 28, New York], [Anna, 24, Los Angeles]}. df.tail(2) prints the last 2 rows which are {[Anna, 24, Los Angeles}, [Peter, 33, Berlin]}. df.shape gives us the dimensions of the DataFrame here being (3,3) indicating 3 rows and 3 columns. df.columns prints the column names [Name, Age, City] and df.dtypes gives us the data types in each column."
   ]
  },
  {
   "cell_type": "markdown",
   "id": "3ca9df5e",
   "metadata": {},
   "source": [
    "## Using λ (Lambda) for DataFrame Manipulation\n",
    "The apply() function in Pandas is a versatile tool to manipulate DataFrame values. It allows us to apply a function (either a Python built-in function or a custom function) along the DataFrame's axes (either row-wise or column-wise).\n",
    "\n",
    "Let's demonstrate this by adding a new column to our DataFrame, which represents whether a person is considered youthful by applying a lambda function to the \"Age\" column.\n",
    "\n",
    "Lambda functions, λ (Lambda), in Python, are small anonymous functions that are defined with the lambda keyword. They can take any number of arguments and can only have one expression. They are particularly useful when you need to pass a small function as an argument.\n",
    "\n"
   ]
  },
  {
   "cell_type": "code",
   "execution_count": null,
   "id": "4a0688bb",
   "metadata": {},
   "outputs": [],
   "source": [
    "df[\"IsYouthful\"] = df[\"Age\"].apply(lambda age: \"Yes\" if age < 30 else \"No\")\n",
    "print(df)\n",
    "\n",
    "\"\"\"\n",
    "    Name  Age         City IsYouthful\n",
    "0   John   28     New York        Yes\n",
    "1   Anna   24  Los Angeles        Yes\n",
    "2  Peter   33       Berlin         No\n",
    "\"\"\""
   ]
  },
  {
   "cell_type": "markdown",
   "id": "455829f9",
   "metadata": {},
   "source": [
    "In the above example, we used a lambda function that takes an age as an argument and returns \"Yes\" if the age is less than 30 and \"No\" otherwise."
   ]
  },
  {
   "cell_type": "markdown",
   "id": "efc9f149",
   "metadata": {},
   "source": [
    "## The Mighty Concat\n",
    "Pandas provides various ways to combine DataFrames, one of which is concat(). As the name implies, concat() combines DataFrame objects along a particular axis.\n",
    "\n",
    "Let's create a new DataFrame and concatenate it with our existing DataFrame:"
   ]
  },
  {
   "cell_type": "code",
   "execution_count": null,
   "id": "3019d25f",
   "metadata": {},
   "outputs": [],
   "source": [
    "df2 = pd.DataFrame({\"Name\": [\"Megan\"], \"Age\": [34], \"City\": [\"San Francisco\"], \"IsYouthful\": [\"No\"]})\n",
    "\n",
    "df_concatenated = pd.concat([df, df2], ignore_index=True)\n",
    "\n",
    "print(df_concatenated)\n",
    "\n",
    "\"\"\"\n",
    "    Name  Age           City IsYouthful\n",
    "0   John   28       New York        Yes\n",
    "1   Anna   24    Los Angeles        Yes\n",
    "2  Peter   33         Berlin         No\n",
    "3  Megan   34  San Francisco         No\n",
    "\"\"\""
   ]
  },
  {
   "cell_type": "markdown",
   "id": "6d84e5f1",
   "metadata": {},
   "source": [
    "Did you notice the ignore_index=True parameter? When set to True, it resets the index in the resulting DataFrame. So, in the resultant DataFrame, the indices are in increasing order starting from 0."
   ]
  },
  {
   "cell_type": "markdown",
   "id": "32f8bd76",
   "metadata": {},
   "source": [
    "Locating Elements in a Pandas DataFrame\n",
    "Pandas provides several ways to locate elements in a DataFrame.\n",
    "\n",
    "The simplest way to select a column in a DataFrame is by label:"
   ]
  },
  {
   "cell_type": "code",
   "execution_count": null,
   "id": "f280b560",
   "metadata": {},
   "outputs": [],
   "source": [
    "print(df['column_name']) # select a single column\n",
    "print(df[['col1', 'col2']]) # select multiple columns"
   ]
  },
  {
   "cell_type": "markdown",
   "id": "2ca4aa03",
   "metadata": {},
   "source": [
    "To select elements within the DataFrame by integer location, we use the iloc method. The iloc indexer is like Python list slicing. This accepts integer inputs and slice notation. The general syntax is df.iloc[row_selection, column_selection]:\n",
    "\n",
    "For example, if we wish to select the value in the second row (indexed at 1) and the first column (indexed at 0):"
   ]
  },
  {
   "cell_type": "code",
   "execution_count": null,
   "id": "ffc755f9",
   "metadata": {},
   "outputs": [],
   "source": [
    "df.iloc[1,0] # Select the value in the second row and the first column (1-based)\n",
    "df.iloc[:2,:2] # Select the first two rows and columns"
   ]
  },
  {
   "cell_type": "markdown",
   "id": "084d17de",
   "metadata": {},
   "source": [
    "## Exploring Practical Application of Pandas: Titanic Dataset from Seaborn\n",
    "Let's dive in and see how Pandas can be applied to real-life datasets! To show this, we will use the Titanic dataset provided by the Seaborn library and show you some quick examples of how you can start analyzing it using Pandas.\n",
    "\n",
    "Seaborn provides a direct function to load the dataset, making it very easy to load the dataset into the Pandas DataFrame:"
   ]
  },
  {
   "cell_type": "code",
   "execution_count": null,
   "id": "1bb56158",
   "metadata": {},
   "outputs": [],
   "source": [
    "import pandas as pd\n",
    "import seaborn as sns\n",
    "\n",
    "# Load the titanic dataset into a Pandas DataFrame\n",
    "titanic = sns.load_dataset('titanic')\n",
    "\n",
    "# Look at the first 3 rows of the DataFrame\n",
    "print(titanic.head(3))\n",
    "\n",
    "\"\"\"\n",
    "   survived  pclass     sex   age  ...  deck  embark_town  alive  alone\n",
    "0         0       3    male  22.0  ...   NaN  Southampton     no  False\n",
    "1         1       1  female  38.0  ...     C    Cherbourg    yes  False\n",
    "2         1       3  female  26.0  ...   NaN  Southampton    yes   True\n",
    "\n",
    "[3 rows x 15 columns]\n",
    "\"\"\""
   ]
  },
  {
   "cell_type": "markdown",
   "id": "dd04e152",
   "metadata": {},
   "source": [
    "As titanic is just a Pandas DataFrame, you can apply to it any operations we've learned before!"
   ]
  },
  {
   "cell_type": "markdown",
   "id": "0f60ad24",
   "metadata": {},
   "source": [
    "## Lesson Summary\n",
    "To recap, we have learned about the Pandas DataFrame, one of the fundamental building blocks in Python for data manipulation. We explored how to create a DataFrame, gain insights about its structure, and manipulate it with functions like apply() and concat(). We also covered the basics of the Lambda function and its application inside the apply() function. Lastly, we covered dataset elements' location, and how all this functionality is applicable to real-life datasets on an example of Seaborn's Titanic dataset. The ability to work with DataFrames is essential for data analysis and will form the foundation for more complex data operations you will learn.\n",
    "\n",
    "Remember, learning by doing is key to mastering these new skills. Are you ready to apply what you've learned today and build some exercises for more hands-on practice? As you proceed, keep in mind that understanding how to manipulate and analyze data using Pandas is a powerful tool for your journey in data science. Let's dive deeper into the upcoming practice exercises and put your learning to the test!\n",
    "\n"
   ]
  }
 ],
 "metadata": {
  "language_info": {
   "name": "python"
  }
 },
 "nbformat": 4,
 "nbformat_minor": 5
}
