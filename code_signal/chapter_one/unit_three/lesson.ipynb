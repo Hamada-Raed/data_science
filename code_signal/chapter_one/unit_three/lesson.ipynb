{
 "cells": [
  {
   "cell_type": "markdown",
   "id": "56332a6e",
   "metadata": {},
   "source": [
    "# Topic Introduction and Actualization\n",
    "Welcome to the next leg of our journey with the Titanic Survival Data - wielding the power of Descriptive Statistics with Numpy and Pandas! In this lesson, we will cover how to use both these libraries to perform descriptive statistical analysis on our dataset. By the end of this lesson, you will have gained the ability to calculate measures of central tendencies such as mean, median, and mode and understand how to interpret measures of variability, quartiles, and percentiles.\n",
    "\n",
    "Why should we care about learning descriptive statistics? Well, simply put, descriptive statistics provide powerful, informative summaries of our data, allowing us to understand the nature and distribution of our data even before embarking on any form of machine learning or data prediction. Armed with this understanding, we are better equipped to carry out accurate analyses and produce meaningful insights from our data. Ready to investigate the Titanic dataset more thoroughly? Then, let's dive in!"
   ]
  },
  {
   "cell_type": "markdown",
   "id": "861ee330",
   "metadata": {},
   "source": [
    "# Descriptive Statistics\n",
    "Descriptive statistics are appropriately named, as they provide insights into the main features of our data. Let's start with the Titanic dataset and calculate some basic statistics for the age of passengers: the mean, median, and mode."
   ]
  },
  {
   "cell_type": "code",
   "execution_count": null,
   "id": "48be234d",
   "metadata": {},
   "outputs": [],
   "source": [
    "import numpy as np\n",
    "import pandas as pd\n",
    "import seaborn as sns\n",
    "\n",
    "# Load Titanic dataset\n",
    "titanic_df = sns.load_dataset('titanic')\n",
    "\n",
    "mean_age = titanic_df['age'].mean()\n",
    "median_age = titanic_df['age'].median()\n",
    "mode_age = titanic_df['age'].mode()[0]\n",
    "\n",
    "print(f\"Mean age: {mean_age}\") # Mean age: 29.69911764705882\n",
    "print(f\"Median age: {median_age}\") # Median age: 28.0\n",
    "print(f\"Mode age: {mode_age}\") # Mode age: 24.0"
   ]
  },
  {
   "cell_type": "markdown",
   "id": "774d2c63",
   "metadata": {},
   "source": [
    "The code calculates and displays the mean (average), median (middle value), and mode (most frequently occurring value) of the age column. These are measures of central tendency, and they give us a general picture of the age distribution of passengers aboard the Titanic.\n",
    "\n"
   ]
  },
  {
   "cell_type": "markdown",
   "id": "e9785c22",
   "metadata": {},
   "source": [
    "# Measures of Variability: Standard Deviation\n",
    "Apart from measures of central tendency, there is another important style of measurement in statistics - measures of dispersion (variability). One of the common ways to gauge the variability in a dataset is via the standard deviation, which measures how much the values in a dataset vary around the mean. A super low standard deviation indicates a dataset with values clustered around the mean, while a higher standard deviation represents a wider spread around the mean. For our Titanic dataset, we can calculate the standard deviation of age as follows:"
   ]
  },
  {
   "cell_type": "code",
   "execution_count": null,
   "id": "2381d046",
   "metadata": {},
   "outputs": [],
   "source": [
    "# Standard deviation\n",
    "std_dev_age = np.std(titanic_df['age'])\n",
    "\n",
    "print(f\"Standard deviation of age: {std_dev_age}\") # Standard deviation of age: 14.516321150817316"
   ]
  },
  {
   "cell_type": "markdown",
   "id": "e67297bb",
   "metadata": {},
   "source": [
    "Running the provided Python code will calculate and print the standard deviation of the age field in the Titanic dataset, thereby giving you a sense of how much the ages of passengers varied.\n",
    "\n"
   ]
  },
  {
   "cell_type": "markdown",
   "id": "a1accdfc",
   "metadata": {},
   "source": [
    "# Delving Deeper into Data: Quartiles and Percentiles\n",
    "Let's dig deeper and start looking at the division of data into segments with quartiles and percentiles. Quartiles and percentiles are in essence, a way to cut our data into equal segments. The 25th percentile, for example, is equivalent to the first quartile, and the 75th percentile is the third quartile."
   ]
  },
  {
   "cell_type": "code",
   "execution_count": null,
   "id": "8161051b",
   "metadata": {},
   "outputs": [],
   "source": [
    "# Quartiles and percentiles\n",
    "# Using Numpy\n",
    "Q1_age_np = np.percentile(titanic_df['age'].dropna(), 25) # dropna is being used to drop NA values\n",
    "Q3_age_np = np.percentile(titanic_df['age'].dropna(), 75)\n",
    "\n",
    "print(f\"First quartile of age (Numpy): {Q1_age_np}\")\n",
    "print(f\"Third quartile of age (Numpy): {Q3_age_np}\")\n",
    "\n",
    "# Output:\n",
    "# First quartile of age (Numpy): 20.125\n",
    "# Third quartile of age (Numpy): 38.0\n",
    "\n",
    "# Using Pandas\n",
    "Q1_age_pd = titanic_df['age'].quantile(0.25)\n",
    "Q3_age_pd = titanic_df['age'].quantile(0.75)\n",
    "\n",
    "print(f\"First quartile of age (Pandas): {Q1_age_pd}\")\n",
    "print(f\"Third quartile of age (Pandas): {Q3_age_pd}\")\n",
    "\n",
    "# Output:\n",
    "# First quartile of age (Pandas): 20.125\n",
    "# Third quartile of age (Pandas): 38.0"
   ]
  },
  {
   "cell_type": "markdown",
   "id": "1d965f86",
   "metadata": {},
   "source": [
    "The executed Python code first calculates and prints the first and third quartiles for the age column of our Titanic dataset using NumPy. It then repeats the calculation using Pandas, giving the same results. With these quartiles, we can immediately understand more about the age distribution of passengers on board the Titanic. For instance, we now know that 50% of passengers were between the ages of Q1_age_np (around 20 years old) and Q3_age_np (approximately 38 years old)."
   ]
  },
  {
   "cell_type": "markdown",
   "id": "4efe358f",
   "metadata": {},
   "source": [
    "## Wrapping Up\n",
    "Congratulations! You have now added it to your Python data library. You have learned how to use Numpy and Pandas to dig into your dataset using descriptive statistics to compute useful measures such as the mean, median, mode, quartiles, percentiles, and standard deviation. These are the ABCs of exploratory data analysis and provide a powerful first step into the realm of Statistical Analysis and Data Science.\n",
    "\n",
    "With this foundation laid down, you now have what it takes to conduct more complex statistical analyses and to engage and succeed in even more advanced fields of Data Science.\n",
    "\n",
    "## Ready to Practice?\n",
    "Now it's time to consolidate your knowledge and master the science of statistics! Try out some practice problems and exercises that will help solidify all you have learned and equip you with the skills to extract more insights from our Titanic dataset! Remember, the more you practice, the more you learn!"
   ]
  }
 ],
 "metadata": {
  "language_info": {
   "name": "python"
  }
 },
 "nbformat": 4,
 "nbformat_minor": 5
}
