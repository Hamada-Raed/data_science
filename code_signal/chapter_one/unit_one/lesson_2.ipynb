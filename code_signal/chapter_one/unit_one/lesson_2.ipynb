{
 "cells": [
  {
   "cell_type": "markdown",
   "id": "e7eb4152",
   "metadata": {},
   "source": [
    "## Introduction to Numpy Array\n",
    "Welcome to this lesson on understanding Numpy arrays! Today, we will be focusing on numerical computations with Numpy, specifically around the creation, manipulation, and operations of Numpy arrays.\n",
    "\n",
    "Numpy, short for Numerical Python, is an essential library for performing numerical computations in Python. It has support for arrays (like lists in Python, but can store items of the same type), multidimensional arrays, matrices, and a large collection of high-level mathematical functions.\n",
    "\n",
    "In the world of data manipulation using Python, understanding and being able to use Numpy arrays allows us to efficiently manage numerical data."
   ]
  },
  {
   "cell_type": "markdown",
   "id": "f68dc3e6",
   "metadata": {},
   "source": [
    "## Creating a Numpy Array\n",
    "The most common way to create a Numpy array is by using the numpy.array() function. You can pass any sequence-like object into this function, and it will be converted into an array. Let's convert a regular Python list into a Numpy array:"
   ]
  },
  {
   "cell_type": "code",
   "execution_count": null,
   "id": "0fe756c7",
   "metadata": {},
   "outputs": [],
   "source": [
    "import numpy as np\n",
    "\n",
    "# Create a Python list\n",
    "py_list = [1, 2, 3, 4, 5]\n",
    "\n",
    "# Convert list to a Numpy array\n",
    "np_array = np.array(py_list)\n",
    "\n",
    "print(np_array) # Output: [1 2 3 4 5]"
   ]
  },
  {
   "cell_type": "markdown",
   "id": "0b7f0218",
   "metadata": {},
   "source": [
    "Executing these lines creates a one-dimensional Numpy array np_array with the same elements as our regular Python list py_list.\n",
    "\n",
    "We can also create two-dimensional arrays (similar to matrices). Let's convert a list of lists into a 2D Numpy array:\n"
   ]
  },
  {
   "cell_type": "code",
   "execution_count": null,
   "id": "297e1e8c",
   "metadata": {},
   "outputs": [],
   "source": [
    "import numpy as np\n",
    "\n",
    "# Create a 2D Python list\n",
    "py_list_2d = [[1, 2, 3], [4, 5, 6], [7, 8, 9]]\n",
    "\n",
    "# Convert list to a Numpy array\n",
    "np_array_2d = np.array(py_list_2d)\n",
    "\n",
    "print(np_array_2d)\n",
    "# Output:\n",
    "# [[1 2 3]\n",
    "#  [4 5 6]\n",
    "#  [7 8 9]]"
   ]
  },
  {
   "cell_type": "markdown",
   "id": "61d59dcb",
   "metadata": {},
   "source": [
    "We now have a two-dimensional Numpy array np_array_2d, with each sub-list of py_list_2d as a row in np_array_2d.\n",
    "\n"
   ]
  },
  {
   "cell_type": "markdown",
   "id": "1dfc1fe2",
   "metadata": {},
   "source": [
    "## Attributes of Numpy Arrays\n",
    "Numpy arrays come equipped with several attributes for gaining more insights:\n",
    "\n",
    "- ndim tells us the number of dimensions of the array.\n",
    "- shape gives us the size of each dimension.\n",
    "- size tells us the total number of elements in the array.\n",
    "- dtype tells us the data type of the elements in the array.\n",
    "- Let's create a 2D array and use these attributes:"
   ]
  },
  {
   "cell_type": "code",
   "execution_count": null,
   "id": "bc7f8e48",
   "metadata": {},
   "outputs": [],
   "source": [
    "np_array = np.array([[1, 2, 3], [4, 5, 6]])\n",
    "\n",
    "print(\"Dimensions: \", np_array.ndim) # Dimensions:  2\n",
    "print(\"Shape: \", np_array.shape)     # Shape:  (2, 3)\n",
    "print(\"Size: \", np_array.size)       # Size: 6\n",
    "print(\"Data Type: \", np_array.dtype) # Data Type:  int64"
   ]
  },
  {
   "cell_type": "markdown",
   "id": "036b2ba5",
   "metadata": {},
   "source": [
    "After running these lines, we see that np_array is a 2D array (since ndim returns the value 2), has 2 rows and 3 columns (shape returns the tuple (2, 3)), contains 6 elements (size returns 6), and is of integer type (dtype returns 'int64').\n",
    "\n"
   ]
  },
  {
   "cell_type": "markdown",
   "id": "a2e4ecc9",
   "metadata": {},
   "source": [
    "## Array Manipulations: Indexing, Slicing and Reshaping Numpy Arrays\n",
    "\n",
    "Numpy arrays can be manipulated in various ways. For instance, we can access specific positions (indexing) and even slices of the array (slicing), or change the shape of the array (reshaping)."
   ]
  },
  {
   "cell_type": "code",
   "execution_count": null,
   "id": "840ed819",
   "metadata": {},
   "outputs": [],
   "source": [
    "# Indexing: access the element at the first row, third column\n",
    "print(\"Indexed Value: \", np_array[0, 2]) # Indexed Value:  3\n",
    "\n",
    "# Slicing: access the first row \n",
    "print(\"Sliced Value: \", np_array[0,:]) # Sliced Value:  [1 2 3]\n",
    "\n",
    "# Reshape the array to 3 rows and 2 columns (only applicable if the reshaped total size equals the original size)\n",
    "reshaped_array = np_array.reshape(3, 2)\n",
    "print(\"Reshaped Array:\\n\", reshaped_array)\n",
    "# Reshaped Array:\n",
    "# [[1 2]\n",
    "#  [3 4]\n",
    "#  [5 6]]\n"
   ]
  },
  {
   "cell_type": "markdown",
   "id": "4e20cedc",
   "metadata": {},
   "source": [
    "In the code snippet shown above, indexing is used to access a specific element in the array, slicing is used to access a range of elements, and reshaping is used to reconfigure the layout of the array while keeping the data intact.\n",
    "\n"
   ]
  },
  {
   "cell_type": "markdown",
   "id": "d7551f76",
   "metadata": {},
   "source": [
    "## Array Operations\n",
    "We can perform arithmetic operations such as addition, subtraction, multiplication, and division on Numpy arrays, which calculates the outcome element-wise.\n"
   ]
  },
  {
   "cell_type": "code",
   "execution_count": null,
   "id": "d9c0059e",
   "metadata": {},
   "outputs": [],
   "source": [
    "import numpy as np\n",
    "\n",
    "np_array1 = np.array([1, 2, 3])\n",
    "np_array2 = np.array([4, 5, 6])\n",
    "\n",
    "# Addition\n",
    "print(np_array1 + np_array2) # Output: [5 7 9]\n",
    "\n",
    "# Subtraction\n",
    "print(np_array1 - np_array2) # Output: [-3 -3 -3]\n",
    "\n",
    "# Multiplication\n",
    "print(np_array1 * np_array2) # Output: [4 10 18]\n",
    "\n",
    "# Division\n",
    "print(np_array1 / np_array2) # Output: [0.25 0.4 0.5]"
   ]
  },
  {
   "cell_type": "markdown",
   "id": "6fcc0050",
   "metadata": {},
   "source": [
    "Here, every operation is applied to each corresponding pair of elements in np_array1 and np_array2, resulting in a new array consisting of these outcomes.\n",
    "\n"
   ]
  },
  {
   "cell_type": "markdown",
   "id": "1b859172",
   "metadata": {},
   "source": [
    "## Summary\n",
    "Well done! In this lesson, you've started your journey in numerical computation with Python by learning the basics of Numpy arrays - including their creation, accessing their attributes, performing manipulations like indexing, slicing and reshaping, and executing basic arithmetic operations.\n",
    "\n",
    "## Ready for Practice?\n",
    "Next, you can apply the concepts you've learned to engage in practice exercises that cover every aspect of this lesson. Through this hands-on experience, you'll gain a better feel for manipulating Numpy arrays, a foundational skill in handling numerical data in Python. Happy practicing!\n",
    "\n"
   ]
  }
 ],
 "metadata": {
  "language_info": {
   "name": "python"
  }
 },
 "nbformat": 4,
 "nbformat_minor": 5
}
