{
 "cells": [
  {
   "cell_type": "markdown",
   "id": "69310842",
   "metadata": {},
   "source": [
    "## Introduction to Descriptive Statistics with the Titanic Dataset\n",
    "Welcome back! This lesson is all about descriptive statistics and understanding the various characteristics of the Titanic dataset.\n",
    "\n",
    "So, why do we need to study statistics when dealing with data? Well, statistics is a branch of mathematics dealing with data collection, organization, and interpretation. In data science, we use statistics to extract meaningful insights and knowledge from data.\n",
    "\n",
    "Statistics helps us deal with the data's complexity by reducing a complex dataset into a simpler summary. It assists in the presentation and visualization of the data, thereby making our data analysis or machine learning model more precise.\n",
    "\n",
    "Take our current dataset, for instance, which comprises various demographics and passenger information; wouldn't it be interesting to know the average age or to gauge the variety in travelers' fares? Our lesson will focus on extracting these primary statistical features from our dataset, helping us better comprehend the Titanic voyage.\n",
    "\n",
    "## Overview of Descriptive Statistics\n",
    "Descriptive statistics summarise and organize the characteristics of a data set. A data set is a collection of responses or observations from a sample or entire population.\n",
    "\n",
    "In pandas, there's a function called describe(), which calculates the basic statistics for all continuous variables, i.e., types of variables that can take on an infinite number of values within a specific range. It provides the count, mean, standard deviation (std), min, quartiles, and max in its output.\n",
    "\n",
    "Firstly, let's import the libraries we will be using and load the dataset:"
   ]
  },
  {
   "cell_type": "code",
   "execution_count": null,
   "id": "854eec15",
   "metadata": {},
   "outputs": [],
   "source": [
    "import seaborn as sns\n",
    "\n",
    "# Load the dataset\n",
    "titanic = sns.load_dataset('titanic')\n",
    "\n",
    "# show the first few rows of data\n",
    "print(titanic.head())"
   ]
  },
  {
   "cell_type": "markdown",
   "id": "9c62516d",
   "metadata": {},
   "source": [
    "The output of the head command will be like this:\n",
    "\n"
   ]
  },
  {
   "cell_type": "code",
   "execution_count": null,
   "id": "22b40f78",
   "metadata": {},
   "outputs": [],
   "source": [
    "#    survived  pclass     sex   age  ...  deck  embark_town  alive  alone\n",
    "# 0         0       3    male  22.0  ...   NaN  Southampton     no  False\n",
    "# 1         1       1  female  38.0  ...     C    Cherbourg    yes  False\n",
    "# 2         1       3  female  26.0  ...   NaN  Southampton    yes   True\n",
    "# 3         1       1  female  35.0  ...     C  Southampton    yes  False\n",
    "# 4         0       3    male  35.0  ...   NaN  Southampton     no   True"
   ]
  },
  {
   "cell_type": "markdown",
   "id": "1bf15857",
   "metadata": {},
   "source": [
    "The describe() function can then be executed as follows:\n",
    "\n"
   ]
  },
  {
   "cell_type": "code",
   "execution_count": null,
   "id": "8f6c6623",
   "metadata": {},
   "outputs": [],
   "source": [
    "# Generate descriptive statistics\n",
    "titanic_stats = titanic.describe()\n",
    "print(titanic_stats)"
   ]
  },
  {
   "cell_type": "markdown",
   "id": "69f083a8",
   "metadata": {},
   "source": [
    "The output of the describe() function will be like this:\n",
    "\n"
   ]
  },
  {
   "cell_type": "code",
   "execution_count": null,
   "id": "11aa7446",
   "metadata": {},
   "outputs": [],
   "source": [
    "#         survived      pclass         age       sibsp       parch        fare\n",
    "# count  891.000000  891.000000  714.000000  891.000000  891.000000  891.000000\n",
    "# mean     0.383838    2.308642   29.699118    0.523008    0.381594   32.204208\n",
    "# std      0.486592    0.836071   14.526497    1.102743    0.806057   49.693429\n",
    "# min      0.000000    1.000000    0.420000    0.000000    0.000000    0.000000\n",
    "# 25%      0.000000    2.000000   20.125000    0.000000    0.000000    7.910400\n",
    "# 50%      0.000000    3.000000   28.000000    0.000000    0.000000   14.454200\n",
    "# 75%      1.000000    3.000000   38.000000    1.000000    0.000000   31.000000\n",
    "# max      1.000000    3.000000   80.000000    8.000000    6.000000  512.329200"
   ]
  },
  {
   "cell_type": "markdown",
   "id": "84d477b2",
   "metadata": {},
   "source": [
    "In this code snippet, the describe() function generates descriptive statistics that summarize a dataset's distribution's central tendency, dispersion, and shape, excluding NaN values.\n",
    "\n"
   ]
  },
  {
   "cell_type": "markdown",
   "id": "7dcad5b5",
   "metadata": {},
   "source": [
    "## What Else?\n",
    "Notice how all the categorical columns, like 'sex' or 'class', are missing in the output. By default, describe() only includes columns with numerical data.\n",
    "\n",
    "If you want to include all columns, you need to pass include='all' as an argument. Here is how to do it:\n",
    "\n"
   ]
  },
  {
   "cell_type": "code",
   "execution_count": null,
   "id": "6147ada8",
   "metadata": {},
   "outputs": [],
   "source": [
    "# Generate descriptive statistics\n",
    "titanic_stats = titanic.describe(include='all')\n",
    "print(titanic_stats)"
   ]
  },
  {
   "cell_type": "markdown",
   "id": "1f77c310",
   "metadata": {},
   "source": [
    "Note that for categorical variables, the output has different features – unique, top, and freq. 'unique' shows the number of distinct objects in the column, 'top' shows the most frequent object, and 'freq' shows how many times the top object appears in the column.\n",
    "\n",
    "## Unveiling The Spread\n",
    "Variability, also known as dispersion, is the extent to which data points differ from the center. Two commonly used measures are the range and interquartile range (IQR).\n",
    "\n",
    "The range is the difference between a dataset's maximum and minimum values. However, it's sensitive to outliers; extremely high or low values can skew the range. Here's how you calculate the range for the age column of the Titanic dataset:"
   ]
  }
 ],
 "metadata": {
  "language_info": {
   "name": "python"
  }
 },
 "nbformat": 4,
 "nbformat_minor": 5
}
