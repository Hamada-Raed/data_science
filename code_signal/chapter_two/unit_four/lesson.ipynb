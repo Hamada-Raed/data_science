{
 "cells": [
  {
   "cell_type": "markdown",
   "id": "7d0b8cb8",
   "metadata": {},
   "source": [
    "# Introduction to Seaborn: Aesthetics and Styling\n",
    "Welcome to the next session on our journey through data visualization! Today, we will dip our toes into the Seaborn library, focusing on aesthetics and styling in our plots. In our previous session, we used Matplotlib to create some simple bar plots. Today, we'll see how Seaborn can help us create visually appealing plots effortlessly.\n",
    "\n",
    "Defining an aesthetic style before creating your plot is an important aspect of any data visualization. The right choice of colors, sizes, and other aesthetic factors can make your plots more engaging, easy to interpret, and effective at conveying your intended insights.\n",
    "\n",
    "We'll be looking at three essential elements of styling in Seaborn: figure style, color palette, and plot size. Think of it this way: you're about to paint a masterpiece, and Seaborn provides us with a studio full of tools. Are you ready to create beautiful plots with the Titanic dataset?\n",
    "\n",
    "# Seaborn: A Quick Introduction\n",
    "Seaborn is a data visualization library built on top of the Matplotlib library in Python. It offers a high-level and easier-to-use interface, as well as attractive and informative statistical graphics.\n",
    "\n",
    "Let's start by importing Seaborn and setting the aesthetics for all the plots to whitegrid."
   ]
  },
  {
   "cell_type": "code",
   "execution_count": null,
   "id": "1ebadac9",
   "metadata": {},
   "outputs": [],
   "source": [
    "import seaborn as sns\n",
    "\n",
    "# Set the seaborn default aesthetic parameters\n",
    "sns.set(style=\"whitegrid\")"
   ]
  },
  {
   "cell_type": "markdown",
   "id": "e6ca6721",
   "metadata": {},
   "source": [
    "The style='whitegrid' parameter in the sns.set() creates a white background with gridlines. Five other preset seaborn themes are available: darkgrid, whitegrid, dark, white, and ticks.\n",
    "\n",
    "What else?\n",
    "You can also set many more aesthetic parameters for your future plots using the sns.set() function. Some of the optional parameters that might customize your plots include:\n",
    "\n",
    "palette: Set this to any of the Seaborn color palettes or a custom color palette.\n",
    "- font: Sets the font for all text in the plot.\n",
    "- font_scale: Can be used to scale the size of the font elements.\n",
    "- color_codes: If set to True, shorthand notation can be used for colors in the palette (like 'b' for blue).\n",
    "\n",
    "For example, to set the palette to Blues, the font to Serif and scale it up 1.2 times, you can use:\n",
    "\n"
   ]
  },
  {
   "cell_type": "code",
   "execution_count": null,
   "id": "aa5f1861",
   "metadata": {},
   "outputs": [],
   "source": [
    "sns.set(style=\"whitegrid\", palette=\"Blues\", font=\"Serif\", font_scale=1.2)"
   ]
  },
  {
   "cell_type": "markdown",
   "id": "4da53a9c",
   "metadata": {},
   "source": [
    "Using Seaborn Visualizations\n",
    "Let's create a barplot for the number of passengers per passenger class using Seaborn."
   ]
  },
  {
   "cell_type": "code",
   "execution_count": null,
   "id": "e95e602e",
   "metadata": {},
   "outputs": [],
   "source": [
    "import seaborn as sns\n",
    "import matplotlib.pyplot as plt\n",
    "\n",
    "# Load the dataset\n",
    "titanic_df = sns.load_dataset('titanic')\n",
    "\n",
    "# Set plot styling\n",
    "sns.set(style=\"whitegrid\", palette=\"Blues\", font=\"Serif\", font_scale=1.2)\n",
    "\n",
    "# Create a plot\n",
    "sns.countplot(x='pclass', data=titanic_df)\n",
    "plt.show()"
   ]
  },
  {
   "cell_type": "markdown",
   "id": "c41e9c63",
   "metadata": {},
   "source": [
    "In the code above, we use sns.countplot() to create a bar plot in Seaborn. It's a simple method that counts the number of occurrences and plots it.\n",
    "\n"
   ]
  },
  {
   "cell_type": "markdown",
   "id": "4d3fbc91",
   "metadata": {},
   "source": [
    "Customizing Palette with Seaborn\n",
    "Color plays a major role in creating an attractive and readable chart. Seaborn provides us with a wide range of color palettes that can be easily deployed to any plot. Let's update our previous bar plot to use the coolwarm palette."
   ]
  },
  {
   "cell_type": "code",
   "execution_count": null,
   "id": "00a83f72",
   "metadata": {},
   "outputs": [],
   "source": [
    "sns.countplot(x='pclass', data=titanic_df, palette='coolwarm')\n",
    "plt.show()"
   ]
  },
  {
   "cell_type": "markdown",
   "id": "8c13d010",
   "metadata": {},
   "source": [
    "Here, palette='coolwarm' updates the color scheme of the plot. There is a variety of color palettes available in Seaborn. Some other options include Blues, husl, and pastel."
   ]
  },
  {
   "cell_type": "markdown",
   "id": "92dc777d",
   "metadata": {},
   "source": [
    "## Adjusting Plots Sizes\n",
    "Controlling the plot's size can be crucial in certain situations where we must present the results at various scales or dimensions. With Seaborn, adjusting the size is pretty straightforward. Let's resize our previous bar plot to be wider and shorter to see the difference."
   ]
  },
  {
   "cell_type": "code",
   "execution_count": null,
   "id": "91151251",
   "metadata": {},
   "outputs": [],
   "source": [
    "plt.figure(figsize=(12, 6))\n",
    "sns.countplot(x='pclass', data=titanic_df, palette='coolwarm')\n",
    "plt.show()"
   ]
  },
  {
   "cell_type": "markdown",
   "id": "5ed6085b",
   "metadata": {},
   "source": [
    "In the code above, plt.figure(figsize=(12, 6)) creates a new figure with the specified width (12) and height (6).\n",
    "\n"
   ]
  },
  {
   "cell_type": "markdown",
   "id": "3f12eefd",
   "metadata": {},
   "source": [
    "# Advanced Plot Customizations with Seaborn\n",
    "Seaborn offers many more options to customize your plots. Below, we explore some of them:\n",
    "\n",
    "Adding a legend\n",
    "Legends can provide useful information about the data being represented in your plot. You can easily add a legend to your Seaborn plot by using plt.legend().\n",
    "\n",
    "# Adding titles and labels\n",
    "Any plot is incomplete without a meaningful title and well-labeled axes. We can add a title to our plot with plt.title(). Likewise, we can add labels to the x-axis and y-axis using plt.xlabel() and plt.ylabel(), respectively.\n",
    "\n",
    "Here is how you would implement all these options:"
   ]
  },
  {
   "cell_type": "code",
   "execution_count": null,
   "id": "61a6d7a5",
   "metadata": {},
   "outputs": [],
   "source": [
    "plt.figure(figsize=(12, 6))\n",
    "sns.countplot(x='pclass', data=titanic_df, palette='coolwarm')\n",
    "plt.title('Passenger Class Count')\n",
    "plt.xlabel('Passenger Class')\n",
    "plt.ylabel('Count')\n",
    "plt.legend(title='Passenger Class')\n",
    "plt.show()"
   ]
  },
  {
   "cell_type": "markdown",
   "id": "a9104805",
   "metadata": {},
   "source": [
    "# Rotating labels\n",
    "In cases where the labels on your x-axis or y-axis are long, they may overlap, making them difficult to read. One solution to this issue is to rotate the axis labels. This is achievable with plt.xticks(rotation=angle) or plt.yticks(rotation=angle) where angle is the degree of rotation.\n",
    "\n",
    "Here, we will rotate our x-axis labels by 45 degrees:"
   ]
  },
  {
   "cell_type": "code",
   "execution_count": null,
   "id": "f18dbf65",
   "metadata": {},
   "outputs": [],
   "source": [
    "plt.figure(figsize=(12, 6))\n",
    "sns.countplot(x='pclass', data=titanic_df, palette='coolwarm')\n",
    "plt.title('Passenger Class Count')\n",
    "plt.xlabel('Passenger Class')\n",
    "plt.ylabel('Count')\n",
    "plt.legend(title='Passenger Class')\n",
    "plt.xticks(rotation=45)\n",
    "plt.show()"
   ]
  },
  {
   "cell_type": "markdown",
   "id": "d24504e7",
   "metadata": {},
   "source": [
    "# Wrapping Up\n",
    "Congratulations! We've covered how to customize your Seaborn plots using basic aesthetics and styling options like figure style, plot size, and color palettes. We also looked at advanced customization options, such as adding a legend, titles, and labels and rotating the axis labels. Good aesthetic choices help your plots deliver their intended insights effectively.\n",
    "\n",
    "In the next phase, get ready to apply what you've learned in some hands-on exercises. These exercises will be incredibly beneficial to solidify the knowledge gained and prepare you for more advanced visualization concepts.\n",
    "\n"
   ]
  }
 ],
 "metadata": {
  "language_info": {
   "name": "python"
  }
 },
 "nbformat": 4,
 "nbformat_minor": 5
}
