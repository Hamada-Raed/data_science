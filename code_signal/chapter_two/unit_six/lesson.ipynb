{
 "cells": [
  {
   "cell_type": "markdown",
   "id": "211df4b6",
   "metadata": {},
   "source": [
    "# Getting Started with Categorical Relations - Leveraging the Power of Bar Plots\n",
    "As we surf through the waves of data visualization, we'll explore how to utilize bar plots to represent categorical relations. We have already learned how to create bar plots in the previous lessons. However, the ability to use it effectively to visualize categorical relations will help us understand the dataset in a more profound way and answer intriguing questions about it.\n",
    "\n",
    "Data visualization is a powerful tool that can not only explain complex data trends and patterns easily but can also provide valuable insight into categorical relationships and correlations between different data variables. If we take the Titanic passengers as an example, a bar plot can show us how the passenger class (pclass), gender (sex), and embarkation port (embarked) affect survival rates. Now, isn't that an insightful piece of information that can help us predict or analyze the survival rate better?\n",
    "\n",
    "Let's dive into data visualization with Python, Seaborn, and Matplotlib as our allies.\n",
    "\n",
    "# Bar Plots for Categorical Data \n",
    "\n",
    "Bar plots, also known as bar graphs, are used to display and compare the number, frequency, or other measures (e.g., mean) for different categories or groups. When dealing with a dataset such as the Titanic dataset, we have several categorical variables - sex, pclass, and embarked. Bar plots can be helpful to visualize the counts of these categorical variables. Saving the best for the last - Seaborn's countplot function makes it extremely convenient to plot these counts.\n",
    "\n",
    "Let's start by producing a bar plot for the sex variable using Seaborn's countplot function:\n",
    "\n"
   ]
  },
  {
   "cell_type": "code",
   "execution_count": null,
   "id": "d502bdeb",
   "metadata": {},
   "outputs": [],
   "source": [
    "import seaborn as sns\n",
    "\n",
    "# Loading the Titanic dataset\n",
    "titanic_df = sns.load_dataset('titanic')\n",
    "\n",
    "# Bar plot for the 'sex' variable\n",
    "sns.countplot(x='sex', data=titanic_df)"
   ]
  },
  {
   "cell_type": "markdown",
   "id": "5239e21f",
   "metadata": {},
   "source": [
    "# Enhancing Your Plots\n",
    "While bar plots can provide insightful information, adding a layer of aesthetics can make them much more appealing and easier to interpret. Let's enhance our plot with some modifications:"
   ]
  },
  {
   "cell_type": "code",
   "execution_count": null,
   "id": "1f215825",
   "metadata": {},
   "outputs": [],
   "source": [
    "# Applying a blue color palette\n",
    "sns.set_palette(\"Blues\")\n",
    "\n",
    "# Bar plot for the 'sex' variable with title\n",
    "sns.countplot(x='sex', data=titanic_df).set_title('Sex Distribution')"
   ]
  },
  {
   "cell_type": "markdown",
   "id": "462bc432",
   "metadata": {},
   "source": [
    "#Bar Plot Customizations with Seaborn\n",
    "Seaborn provides multiple options to customize your bar plots for better readability and presentation. Here are some of the key parameters you can adjust in the countplot function:\n",
    "\n",
    "- hue - This parameter allows you to represent an additional categorical variable by colors. It becomes very handy in analyzing how the distribution of categories changes with respect to other categorical variables.\n",
    "- color - This parameter lets you set a specific color for all the plot bars.\n",
    "- order and hue_order - These parameters can be useful in arranging the bars in a specific order. You can provide an ordered list of categories to these parameters to adjust the ordering of bars.\n",
    "- orient - This parameter can be used to change the plot's orientation. By default, it's set to 'v' for vertical plots. You can change it to 'h' for horizontal plots.\n",
    "Let's try out these parameters in the following code:"
   ]
  },
  {
   "cell_type": "code",
   "execution_count": null,
   "id": "1a84f7b3",
   "metadata": {},
   "outputs": [],
   "source": [
    "# Color-coded bar plot representing 'sex' and survival ('survived')\n",
    "sns.countplot(x='sex', hue='survived', data=titanic_df, palette='light:cyan', order=[\"female\", \"male\"], orient='v').set_title('Sex and Survival Rates')"
   ]
  },
  {
   "cell_type": "markdown",
   "id": "2b3be64a",
   "metadata": {},
   "source": [
    "Provides a graphical representation of the survival rates of male and female passengers.\n",
    "\n",
    "# Understanding Survival Rates using Bar Plots\n",
    "So far, we have only been looking at single variables at a time. However, the real insights begin to emerge when we start comparing two variables against each other.\n",
    "\n",
    "In the context of the Titanic dataset, a relevant question might be - \"Is the survival rate different for men and women, or does it depend on the passenger class or the embarkation port?\". Bar plots can aid us in finding the answers to these questions.\n",
    "\n",
    "Let's gain insight into the survival rates of passengers based on their sex, pclass, and embarked:"
   ]
  },
  {
   "cell_type": "code",
   "execution_count": null,
   "id": "33541186",
   "metadata": {},
   "outputs": [],
   "source": [
    "# Comparing the 'sex' variable with 'survived'\n",
    "sns.countplot(x='sex', hue='survived', data=titanic_df)"
   ]
  },
  {
   "cell_type": "code",
   "execution_count": null,
   "id": "f34be8d2",
   "metadata": {},
   "outputs": [],
   "source": [
    "# Comparing the 'embarked' variable with 'survived'\n",
    "sns.countplot(x='embarked', hue='survived', data=titanic_df)"
   ]
  },
  {
   "cell_type": "markdown",
   "id": "2c5ccb08",
   "metadata": {},
   "source": [
    "In the above plots, the hue parameter is set to the survived variable to color the data points by their survival status. This way, we can visualize how survival rates vary among different categories.\n",
    "\n",
    "# Wrapping Up the Lesson\n",
    "Great progress so far! In this lesson, we focused on visualizing categorical relations using bar plots. By making the most of countplot(), we could efficiently represent the count of variables and their correlation with each other. We've applied this knowledge to a real-life dataset and were able to get insights on how individual factors affect passenger survival on the Titanic.\n",
    "\n",
    "Do you feel excited about digging more into the dataset? Well, the next set of practice exercises will feed your enthusiasm. Not only will you hone your skills, but you will also discover more about the data and the relationships within it.\n",
    "\n"
   ]
  }
 ],
 "metadata": {
  "language_info": {
   "name": "python"
  }
 },
 "nbformat": 4,
 "nbformat_minor": 5
}
