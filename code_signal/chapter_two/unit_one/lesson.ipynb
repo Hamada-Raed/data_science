{
 "cells": [
  {
   "cell_type": "markdown",
   "id": "911f73ea",
   "metadata": {},
   "source": [
    "# Starting the Voyage: Exploring the Titanic Dataset\n",
    "\n",
    "Welcome to our course, Intro to Data Visualization with Titanic - an in-depth exploration into the techniques and methodologies of data visualization using Python. This course is designed to provide you with comprehensive insights into real-world scenarios, helping you understand the invaluable concept of data visualization and its applications in today's data-driven world.\n",
    "\n",
    "In the first lesson of this course, we will explore the detailed properties of the Titanic dataset available from Seaborn - the dataset containing the demographic and passenger information from the 891 surviving passengers out of the 2214 on board the Titanic.\n",
    "\n",
    "Understanding the data we're working with is foundational in data analysis because it lets us gain better insights into it and spot potential errors. It also helps us form a reliable basis for further intricate analysis. The runtime of this process can vary solely based on the characteristics of the dataset and what we intend to understand from it.\n",
    "\n",
    "So, let's delve in and explore the Titanic dataset to understand further the people who pursued their fate on Titanic.\n",
    "\n",
    "# Insight into Features of the Titanic Dataset\n",
    "We shall begin our voyage into the dataset by understanding the various attributes of the Titanic dataset.\n",
    "\n",
    "First, let's briefly go over the features of the Titanic dataset:\n",
    "\n",
    "survived: Whether the passenger survived (0 = No; 1 = Yes).\n",
    "pclass: Passenger class (1 = 1st; 2 = 2nd; 3 = 3rd).\n",
    "- sex: Sex of the passenger (male or female).\n",
    "- age: Age of the passenger (float number).\n",
    "- sibsp: Number of siblings/spouses aboard.\n",
    "- parch: Number of parents/children aboard.\n",
    "- fare: Passenger fare (in British pounds).\n",
    "- embarked: Port of Embarkation (C = Cherbourg; Q = Queenstown; S = Southampton).\n",
    "... and more!\n",
    "\n",
    "By discussing these attributes, let's familiarize ourselves with the Titanic dataset available in Seaborn."
   ]
  },
  {
   "cell_type": "code",
   "execution_count": null,
   "id": "56d8cec5",
   "metadata": {},
   "outputs": [],
   "source": [
    "import seaborn as sns\n",
    "\n",
    "titanic_df = sns.load_dataset('titanic')\n",
    "print(titanic_df.head())\n",
    "# This command shows the first five entries of the DataFrame"
   ]
  },
  {
   "cell_type": "code",
   "execution_count": null,
   "id": "38560b84",
   "metadata": {},
   "outputs": [],
   "source": [
    "\n",
    "\n",
    "#    survived  pclass     sex   age  ...  deck  embark_town  alive  alone\n",
    "# 0         0       3    male  22.0  ...   NaN  Southampton     no  False\n",
    "# 1         1       1  female  38.0  ...     C    Cherbourg    yes  False\n",
    "# 2         1       3  female  26.0  ...   NaN  Southampton    yes   True\n",
    "# 3         1       1  female  35.0  ...     C  Southampton    yes  False\n",
    "# 4         0       3    male  35.0  ...   NaN  Southampton     no   True"
   ]
  },
  {
   "cell_type": "markdown",
   "id": "61149e41",
   "metadata": {},
   "source": [
    "Each row here represents a different passenger on the ship, while each column corresponds to one of the features described above.\n",
    "\n",
    "Diving Deeper: Examining More Characteristics\n",
    "Our dataset (titanic_df) is a Pandas DataFrame, and it comes with many built-in functions that we can use to inspect the data:\n",
    "\n",
    "- head(n): Displays the first n entries of the DataFrame.\n",
    "- tail(n): Displays the last n entries of the DataFrame.\n",
    "- shape: Returns the number of rows and columns of the DataFrame.\n",
    "- info(): Provides a concise summary of the DataFrame.\n",
    "- describe(): Generates descriptive statistics that summarize a dataset's distribution's central tendency, dispersion, and shape.\n",
    "\n",
    "Each of these functions offers a different perspective on the Titanic dataset:"
   ]
  },
  {
   "cell_type": "code",
   "execution_count": null,
   "id": "8ad9f30c",
   "metadata": {},
   "outputs": [],
   "source": [
    "# Print the first five entries\n",
    "print(titanic_df.head())\n",
    "\n",
    "# Print the last five entries\n",
    "print(titanic_df.tail())\n",
    "\n",
    "# Print the shape of the DataFrame\n",
    "print(titanic_df.shape)\n",
    "# Output: (891, 15)\n",
    "\n",
    "# Print a concise summary of the DataFrame\n",
    "titanic_df.info()\n",
    "\"\"\"\n",
    "<class 'pandas.core.frame.DataFrame'>\n",
    "RangeIndex: 891 entries, 0 to 890\n",
    "Data columns (total 15 columns):\n",
    " #   Column       Non-Null Count  Dtype   \n",
    "---  ------       --------------  -----   \n",
    " 0   survived     891 non-null    int64   \n",
    " 1   pclass       891 non-null    int64   \n",
    " 2   sex          891 non-null    object  \n",
    " 3   age          714 non-null    float64 \n",
    " 4   sibsp        891 non-null    int64   \n",
    " 5   parch        891 non-null    int64   \n",
    " 6   fare         891 non-null    float64 \n",
    " 7   embarked     889 non-null    object  \n",
    " 8   class        891 non-null    category\n",
    " 9   who          891 non-null    object  \n",
    " 10  adult_male   891 non-null    bool    \n",
    " 11  deck         203 non-null    category\n",
    " 12  embark_town  889 non-null    object  \n",
    " 13  alive        891 non-null    object  \n",
    " 14  alone        891 non-null    bool    \n",
    "dtypes: bool(2), category(2), float64(2), int64(4), object(5)\n",
    "memory usage: 80.7+ KB\n",
    "\"\"\"\n",
    "\n",
    "# Print the descriptive statistics of the DataFrame\n",
    "print(titanic_df.describe())\n",
    "\"\"\"\n",
    "         survived      pclass         age       sibsp       parch        fare\n",
    "count  891.000000  891.000000  714.000000  891.000000  891.000000  891.000000\n",
    "mean     0.383838    2.308642   29.699118    0.523008    0.381594   32.204208\n",
    "std      0.486592    0.836071   14.526497    1.102743    0.806057   49.693429\n",
    "min      0.000000    1.000000    0.420000    0.000000    0.000000    0.000000\n",
    "25%      0.000000    2.000000   20.125000    0.000000    0.000000    7.910400\n",
    "50%      0.000000    3.000000   28.000000    0.000000    0.000000   14.454200\n",
    "75%      1.000000    3.000000   38.000000    1.000000    0.000000   31.000000\n",
    "max      1.000000    3.000000   80.000000    8.000000    6.000000  512.329200\n",
    "\"\"\""
   ]
  },
  {
   "cell_type": "markdown",
   "id": "f82a64df",
   "metadata": {},
   "source": [
    "The output shows:\n",
    "\n",
    "- The head command outputs the first five rows similar to the abovementioned one.\n",
    "- The tail command outputs the last five rows of the dataframe.\n",
    "- The shape command returns (891, 15), indicating the dataframe has 891 rows and 15 columns.\n",
    "- The info command prints a concise summary, including the number of non-null entries for each column.\n",
    "- The describe command provides a statistics table for the dataframe's numerical columns.\n",
    "You will notice from this description that the dataset contains some missing values in features like Age and Embarked, something we will learn to handle in later lessons.\n",
    "\n",
    "# Deeper Dive with DataFrame Functionality\n",
    "The value_counts() function can also be quite helpful in understanding the distribution of categorical data. For example, if you want to count how many male and female passengers were on the Titanic, you could use this command:"
   ]
  },
  {
   "cell_type": "code",
   "execution_count": null,
   "id": "20b48574",
   "metadata": {},
   "outputs": [],
   "source": [
    "print(titanic_df['sex'].value_counts())\n",
    "\n",
    "\"\"\"\n",
    "male      577\n",
    "female    314\n",
    "Name: sex, dtype: int64\n",
    "\"\"\""
   ]
  },
  {
   "cell_type": "markdown",
   "id": "73a6eb2d",
   "metadata": {},
   "source": [
    "The *nunique()* and *unique()* functions could also come in handy to identify unique entries within your dataset. The former gives the count of unique entries, and the latter gives the actual unique entries."
   ]
  },
  {
   "cell_type": "code",
   "execution_count": null,
   "id": "3d419b4d",
   "metadata": {},
   "outputs": [],
   "source": [
    "# Print the count of unique entries in 'embarked' column\n",
    "print(titanic_df['embarked'].nunique()) # Output: 3\n",
    "\n",
    "# Print the unique entries in 'embarked' column\n",
    "print(titanic_df['embarked'].unique()) # Output: ['S' 'C' 'Q' nan]"
   ]
  },
  {
   "cell_type": "markdown",
   "id": "2ee54cd6",
   "metadata": {},
   "source": [
    "These additional functions provide functionality to make your exploratory data analysis even more powerful!\n",
    "\n",
    "# Wrapping Up\n",
    "Congratulations! You've now learned to explore and understand the Titanic dataset's basic features and characteristics using Python and Pandas. We dove into the dataset's content, comprehensively understanding the Titanic passengers and their tragic journey. Today's deep dive is invaluable in setting the foundation for more advanced data visualizations.\n",
    "\n",
    "In this lesson, we learned how to:\n",
    "\n",
    "- Load a dataset using Seaborn.\n",
    "- Explore the dataset using the various built-in functions provided by Pandas.\n",
    "\n",
    "# Practice Ahead!\n",
    "We encourage you to apply what you've learned in this beginner-friendly exploration. Take the time to explore the dataset further: check the missing values, investigate the descriptive statistics, and try using other functionalities of Pandas.\n",
    "\n",
    "Good luck with your journey in data visualization! Happy sailing!\n",
    "\n"
   ]
  }
 ],
 "metadata": {
  "language_info": {
   "name": "python"
  }
 },
 "nbformat": 4,
 "nbformat_minor": 5
}
