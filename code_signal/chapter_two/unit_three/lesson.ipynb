{
 "cells": [
  {
   "cell_type": "markdown",
   "id": "c2e3b875",
   "metadata": {},
   "source": [
    "# Setting Foot on Matplotlib: Basics of Plotting Categorical Data\n",
    "Welcome to another exciting session! Today, we're stepping into the world of data visualization by introducing Matplotlib's visualization tools. We'll be learning the basics of plotting categorical data from our dataset and understanding the insight such visualization can provide.\n",
    "\n",
    "Data visualization is an essential tool in data analysis—you can communicate complex data structures and uncover relationships, trends, and patterns in the data. It plays a pivotal role in exploratory data analysis, a fundamental skill for all data scientists.\n",
    "\n",
    "Taking the passengers aboard Titanic as an example, each passenger belonged to a specific gender and a unique passenger class. Can we observe any underlying pattern that might be of interest? Are survival rates higher for a certain gender or passenger class? Or does the embarkation point play a role? We'll address these questions as we traverse the path of data visualization.\n",
    "\n",
    "# Introduction to Matplotlib\n",
    "Matplotlib is an extensive library for creating static, animated, and interactive visualizations in Python. To make it versatile across multiple platforms, it offers a MATLAB-like interface.\n",
    "\n",
    "Let's start by importing the pyplot module of the Matplotlib library:#"
   ]
  },
  {
   "cell_type": "code",
   "execution_count": null,
   "id": "929d4adc",
   "metadata": {},
   "outputs": [],
   "source": [
    "import matplotlib.pyplot as plt"
   ]
  },
  {
   "cell_type": "markdown",
   "id": "ecf82b65",
   "metadata": {},
   "source": [
    "pyplot provides a high-level interface for creating attractive graphs. To demonstrate this, we'll first analyze the sex column of the Titanic dataset.\n",
    "\n",
    "We retrieve the counts of each category — male and female — with value_counts(), and plotting them is as simple as calling plot() with the argument 'bar':"
   ]
  },
  {
   "cell_type": "code",
   "execution_count": null,
   "id": "8f200408",
   "metadata": {},
   "outputs": [],
   "source": [
    "import matplotlib.pyplot as plt\n",
    "import seaborn as sns\n",
    "\n",
    "# Load the dataset\n",
    "titanic_df = sns.load_dataset('titanic')\n",
    "\n",
    "# Count total males and females\n",
    "gender_data = titanic_df['sex'].value_counts()\n",
    "\n",
    "# Create a bar chart\n",
    "gender_data.plot(kind ='bar', title='Sex Distribution')\n",
    "plt.show()"
   ]
  },
  {
   "cell_type": "markdown",
   "id": "fe92f79c",
   "metadata": {},
   "source": [
    "## Enhancing Plots: Labels and Title\n",
    "It's good practice to include a title and labels for the axes to make your plot more understandable. You can achieve this using xlabel(), ylabel(), and title() functions. Let's enhance our plot:"
   ]
  },
  {
   "cell_type": "code",
   "execution_count": null,
   "id": "a4d30671",
   "metadata": {},
   "outputs": [],
   "source": [
    "gender_data = titanic_df['sex'].value_counts()\n",
    "\n",
    "gender_data.plot(kind ='bar')\n",
    "plt.xlabel(\"Sex\")\n",
    "plt.ylabel(\"Count\")\n",
    "plt.title(\"Sex Distribution\")\n",
    "plt.show()"
   ]
  },
  {
   "cell_type": "markdown",
   "id": "1a4bdc57",
   "metadata": {},
   "source": [
    "In this code, plt.xlabel(\"Sex\") adds 'Sex' as the label for the x-axis, plt.ylabel(\"Count\") adds 'Count' as the label for the y-axis, and plt.title(\"Sex Distribution\") sets 'Sex Distribution' as the title for the plot.\n",
    "\n",
    "# A Look at Other Categories\n",
    "Just as we did with the sex column, we can also analyze the pclass (passenger class) and embarked (embarkation point) columns:"
   ]
  },
  {
   "cell_type": "code",
   "execution_count": null,
   "id": "6c0aa781",
   "metadata": {},
   "outputs": [],
   "source": [
    "# Passenger class distribution\n",
    "class_data = titanic_df['pclass'].value_counts()\n",
    "class_data.plot(kind='bar')\n",
    "plt.xlabel(\"Passenger Class\")\n",
    "plt.ylabel(\"Count\")\n",
    "plt.title(\"Passenger Class Distribution\")\n",
    "plt.show()"
   ]
  },
  {
   "cell_type": "code",
   "execution_count": null,
   "id": "10b74b67",
   "metadata": {},
   "outputs": [],
   "source": [
    "# Embarkation point distribution\n",
    "embark_data = titanic_df['embarked'].value_counts()\n",
    "embark_data.plot(kind='bar')\n",
    "plt.xlabel(\"Embarkation Point\")\n",
    "plt.ylabel(\"Count\")\n",
    "plt.title(\"Embarkation Point Distribution\")\n",
    "plt.show()"
   ]
  },
  {
   "cell_type": "markdown",
   "id": "a0a0a1cf",
   "metadata": {},
   "source": [
    "These plots visualize the count of passengers based on their passenger class and embarked points, giving us some insights about the dataset.\n",
    "\n",
    "Customizing Your Plot\n",
    "Not only does the plot() method enable us to generate various types of charts, but it also allows us to adjust many parameters for better visualization.\n",
    "\n",
    "- color: Sets the color of the plot.\n",
    "- alpha: Sets the transparency level.\n",
    "- grid: Whether or not to display grid lines.\n",
    "Let's experiment with these parameters:"
   ]
  },
  {
   "cell_type": "code",
   "execution_count": null,
   "id": "e69bbc81",
   "metadata": {},
   "outputs": [],
   "source": [
    "gender_data.plot(kind='bar', color='skyblue', alpha=0.7, grid=True)\n",
    "plt.xlabel(\"Sex\")\n",
    "plt.ylabel(\"Count\")\n",
    "plt.title(\"Sex Distribution\")\n",
    "plt.show()"
   ]
  },
  {
   "cell_type": "markdown",
   "id": "4697ca46",
   "metadata": {},
   "source": [
    "# Wrapping Up\n",
    "Congratulations! You have taken your first steps into the world of data visualization, learning how to create bar plots with Matplotlib. You've learned about the significance of data visualization and discovered how to make your plots more readable by adding labels and titles.\n",
    "\n",
    "From here, with this foundation, you are now well-placed to explore the further capabilities that the pyplot interface provides, such as line plots, scatter plots, and much more.\n",
    "\n",
    "# Ready to Practice?\n",
    "Next are several practice sessions that allow you to apply what you've learned. Remember, practice is key to mastering these concepts and developing your skills further!"
   ]
  }
 ],
 "metadata": {
  "language_info": {
   "name": "python"
  }
 },
 "nbformat": 4,
 "nbformat_minor": 5
}
